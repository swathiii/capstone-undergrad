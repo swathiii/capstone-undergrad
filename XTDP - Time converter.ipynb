{
 "cells": [
  {
   "cell_type": "code",
   "execution_count": 2,
   "metadata": {},
   "outputs": [
    {
     "name": "stdout",
     "output_type": "stream",
     "text": [
      "Enter the value of MJD: 57716.3097937\n",
      "1479952566000.0\n"
     ]
    }
   ],
   "source": [
    "from datetime import datetime\n",
    "import time\n",
    "import math\n",
    "\n",
    "#Function to convert MJD to Milliseconds:\n",
    "def mjd_to_ms(mjd):\n",
    "    \n",
    "    #Converting MJD to JD\n",
    "    jd = mjd + 2400000.5\n",
    "    \n",
    "    #Function to convert JD to Date:\n",
    "    def jd_to_date(jd):\n",
    "\n",
    "        jd = jd + 0.5\n",
    "        F, I = math.modf(jd)\n",
    "        I = int(I)\n",
    "        A = math.trunc((I - 1867216.25)/36524.25)\n",
    "        if I > 2299160:\n",
    "            B = I + 1 + A - math.trunc(A / 4.)\n",
    "        else:\n",
    "            B = I\n",
    "        C = B + 1524\n",
    "        D = math.trunc((C - 122.1) / 365.25)    \n",
    "        E = math.trunc(365.25 * D)    \n",
    "        G = math.trunc((C - E) / 30.6001)    \n",
    "        day = C - E + F - math.trunc(30.6001 * G)    \n",
    "        if G < 13.5:\n",
    "            month = G - 1\n",
    "        else:\n",
    "            month = G - 13        \n",
    "        if month > 2.5:\n",
    "            year = D - 4716\n",
    "        else:\n",
    "            year = D - 4715        \n",
    "        return year, month, day\n",
    "\n",
    "    #Function to convert Days to HMSM:\n",
    "    def days_to_hmsm(days):\n",
    "\n",
    "        hours = days * 24.\n",
    "        hours, hour = math.modf(hours)\n",
    "        mins = hours * 60.\n",
    "        mins, min = math.modf(mins)\n",
    "        secs = mins * 60.\n",
    "        secs, sec = math.modf(secs)\n",
    "        micro = round(secs * 1.e6)\n",
    "        return int(hour), int(min), int(sec), int(micro)\n",
    "\n",
    "    #Function to convert JD to Datetime:\n",
    "    def jd_to_datetime(jd):\n",
    "\n",
    "        year, month, day = jd_to_date(jd)\n",
    "        frac_days,day = math.modf(day)\n",
    "        day = int(day)\n",
    "        hour,min,sec,micro = days_to_hmsm(frac_days)\n",
    "        timee = datetime(year,month,day,hour,min,sec,micro)\n",
    "        seconds_since_epoch = time.mktime(timee.timetuple()) * 1000\n",
    "        print (seconds_since_epoch)\n",
    "\n",
    "    jd_to_datetime(jd)\n",
    "    \n",
    "mjd = float(input(\"Enter the value of MJD: \"))\n",
    "mjd_to_ms(mjd)"
   ]
  },
  {
   "cell_type": "code",
   "execution_count": null,
   "metadata": {},
   "outputs": [],
   "source": []
  }
 ],
 "metadata": {
  "kernelspec": {
   "display_name": "Python 3",
   "language": "python",
   "name": "python3"
  },
  "language_info": {
   "codemirror_mode": {
    "name": "ipython",
    "version": 3
   },
   "file_extension": ".py",
   "mimetype": "text/x-python",
   "name": "python",
   "nbconvert_exporter": "python",
   "pygments_lexer": "ipython3",
   "version": "3.7.4"
  }
 },
 "nbformat": 4,
 "nbformat_minor": 4
}
