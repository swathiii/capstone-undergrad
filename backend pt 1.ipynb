{
 "cells": [
  {
   "cell_type": "code",
   "execution_count": 1,
   "metadata": {},
   "outputs": [],
   "source": [
    "from astropy.table import Table\n",
    "from astropy.io import fits \n",
    "import matplotlib.pyplot as plt \n",
    "%matplotlib inline"
   ]
  },
  {
   "cell_type": "code",
   "execution_count": 15,
   "metadata": {},
   "outputs": [
    {
     "name": "stdout",
     "output_type": "stream",
     "text": [
      "Filename: /home/swathi/data/20151016_P01_126T01_9000000030_level2/SSM/SSM_00273/evtlstgtifil/AS1P01_126T01_9000000030_00273ssm_level2_clean_ssm1.fits\n",
      "No.    Name      Ver    Type      Cards   Dimensions   Format\n",
      "  0  PRIMARY       1 PrimaryHDU      26   ()      \n",
      "  1  EVENTSpvA002730000    1 BinTableHDU     97   233R x 6C   [D, I, I, B, B, D]   \n",
      "  2  EVENTS8vA002730000    1 BinTableHDU     97   252R x 6C   [D, I, I, B, B, D]   \n",
      "  3  EVENTSpvA002730001    1 BinTableHDU     97   11830R x 6C   [D, I, I, B, B, D]   \n",
      "  4  EVENTS8vA002730001    1 BinTableHDU     97   12564R x 6C   [D, I, I, B, B, D]   \n",
      "  5  EVENTSpvA002730002    1 BinTableHDU     97   13769R x 6C   [D, I, I, B, B, D]   \n",
      "  6  EVENTS8vA002730002    1 BinTableHDU     97   14565R x 6C   [D, I, I, B, B, D]   \n",
      "  7  EVENTSpvA002730003    1 BinTableHDU     97   12410R x 6C   [D, I, I, B, B, D]   \n",
      "  8  EVENTS8vA002730003    1 BinTableHDU     97   13100R x 6C   [D, I, I, B, B, D]   \n",
      "  9  EVENTSpvA002730004    1 BinTableHDU     97   9983R x 6C   [D, I, I, B, B, D]   \n",
      " 10  EVENTS8vA002730004    1 BinTableHDU     97   10562R x 6C   [D, I, I, B, B, D]   \n",
      " 11  EVENTSpvA002730005    1 BinTableHDU     97   10018R x 6C   [D, I, I, B, B, D]   \n",
      " 12  EVENTS8vA002730005    1 BinTableHDU     97   10579R x 6C   [D, I, I, B, B, D]   \n",
      " 13  EVENTSpvA002730006    1 BinTableHDU     97   12387R x 6C   [D, I, I, B, B, D]   \n",
      " 14  EVENTS8vA002730006    1 BinTableHDU     97   13059R x 6C   [D, I, I, B, B, D]   \n",
      " 15  EVENTSpvA002730007    1 BinTableHDU     97   9120R x 6C   [D, I, I, B, B, D]   \n",
      " 16  EVENTS8vA002730007    1 BinTableHDU     97   9577R x 6C   [D, I, I, B, B, D]   \n",
      " 17  EVENTSpvA002730008    1 BinTableHDU     97   0R x 6C   [D, I, I, B, B, D]   \n",
      " 18  EVENTS8vA002730008    1 BinTableHDU     97   0R x 6C   [D, I, I, B, B, D]   \n",
      " 19  EVENTSpvA002730009    1 BinTableHDU     97   0R x 6C   [D, I, I, B, B, D]   \n",
      " 20  EVENTS8vA002730009    1 BinTableHDU     97   0R x 6C   [D, I, I, B, B, D]   \n",
      " 21  EVENTSpvA002730010    1 BinTableHDU     97   0R x 6C   [D, I, I, B, B, D]   \n",
      " 22  EVENTS8vA002730010    1 BinTableHDU     97   0R x 6C   [D, I, I, B, B, D]   \n",
      " 23  EVENTSpvA002730011    1 BinTableHDU     97   8885R x 6C   [D, I, I, B, B, D]   \n",
      " 24  EVENTS8vA002730011    1 BinTableHDU     97   9444R x 6C   [D, I, I, B, B, D]   \n",
      " 25  EVENTSpvA002730012    1 BinTableHDU     97   13027R x 6C   [D, I, I, B, B, D]   \n",
      " 26  EVENTS8vA002730012    1 BinTableHDU     97   13879R x 6C   [D, I, I, B, B, D]   \n"
     ]
    }
   ],
   "source": [
    "hdu_list = fits.open('/home/swathi/data/20151016_P01_126T01_9000000030_level2/SSM/SSM_00273/evtlstgtifil/AS1P01_126T01_9000000030_00273ssm_level2_clean_ssm1.fits')\n",
    "hdu_list.info()\n",
    "                     "
   ]
  },
  {
   "cell_type": "code",
   "execution_count": 16,
   "metadata": {},
   "outputs": [
    {
     "name": "stdout",
     "output_type": "stream",
     "text": [
      "ColDefs(\n",
      "    name = 'SSM_PL_EVTTIME_MJD'; format = 'D'; unit = '# days'\n",
      "    name = 'SSM_PL_EVTLV'; format = 'I'; unit = 'V'\n",
      "    name = 'SSM_PL_EVTRV'; format = 'I'; unit = 'V'\n",
      "    name = 'SSM_PL_EVTLA'; format = 'B'; unit = '#'\n",
      "    name = 'SSM_PL_EVTRA'; format = 'B'; unit = '#'\n",
      "    name = 'SSM_PL_EVTTIME'; format = 'D'; unit = 's'\n",
      ")\n"
     ]
    }
   ],
   "source": [
    "print(hdu_list[1].columns)"
   ]
  },
  {
   "cell_type": "code",
   "execution_count": 17,
   "metadata": {},
   "outputs": [],
   "source": [
    "evt_data = Table(hdu_list[1].data)"
   ]
  },
  {
   "cell_type": "code",
   "execution_count": 18,
   "metadata": {},
   "outputs": [
    {
     "data": {
      "text/html": [
       "<i>Table length=233</i>\n",
       "<table id=\"table140035546975144\" class=\"table-striped table-bordered table-condensed\">\n",
       "<thead><tr><th>SSM_PL_EVTTIME_MJD</th><th>SSM_PL_EVTLV</th><th>SSM_PL_EVTRV</th><th>SSM_PL_EVTLA</th><th>SSM_PL_EVTRA</th><th>SSM_PL_EVTTIME</th></tr></thead>\n",
       "<thead><tr><th>float64</th><th>int16</th><th>int16</th><th>uint8</th><th>uint8</th><th>float64</th></tr></thead>\n",
       "<tr><td>57311.46633396846</td><td>211</td><td>59</td><td>2</td><td>2</td><td>362854.1151</td></tr>\n",
       "<tr><td>57311.46633396846</td><td>28</td><td>15</td><td>2</td><td>2</td><td>362854.1227</td></tr>\n",
       "<tr><td>57311.466334904806</td><td>36</td><td>215</td><td>7</td><td>7</td><td>362854.196</td></tr>\n",
       "<tr><td>57311.46633539902</td><td>95</td><td>58</td><td>4</td><td>4</td><td>362854.23870000005</td></tr>\n",
       "<tr><td>57311.46633693143</td><td>182</td><td>63</td><td>7</td><td>7</td><td>362854.37110000005</td></tr>\n",
       "<tr><td>57311.46633693143</td><td>190</td><td>70</td><td>3</td><td>3</td><td>362854.3725</td></tr>\n",
       "<tr><td>57311.466338291386</td><td>160</td><td>170</td><td>0</td><td>0</td><td>362854.48860000004</td></tr>\n",
       "<tr><td>57311.466338706894</td><td>94</td><td>68</td><td>7</td><td>7</td><td>362854.5245</td></tr>\n",
       "<tr><td>57311.466338706894</td><td>64</td><td>171</td><td>2</td><td>2</td><td>362854.5309</td></tr>\n",
       "<tr><td>57311.466339375875</td><td>82</td><td>80</td><td>4</td><td>4</td><td>362854.5823</td></tr>\n",
       "<tr><td>...</td><td>...</td><td>...</td><td>...</td><td>...</td><td>...</td></tr>\n",
       "<tr><td>57311.4664547937</td><td>67</td><td>44</td><td>1</td><td>1</td><td>362864.5544</td></tr>\n",
       "<tr><td>57311.46645499508</td><td>110</td><td>164</td><td>0</td><td>0</td><td>362864.57180000003</td></tr>\n",
       "<tr><td>57311.4664553724</td><td>119</td><td>60</td><td>4</td><td>4</td><td>362864.6044</td></tr>\n",
       "<tr><td>57311.46645551592</td><td>82</td><td>52</td><td>4</td><td>4</td><td>362864.6168</td></tr>\n",
       "<tr><td>57311.46645601592</td><td>139</td><td>303</td><td>3</td><td>3</td><td>362864.66000000003</td></tr>\n",
       "<tr><td>57311.46645641638</td><td>85</td><td>28</td><td>1</td><td>1</td><td>362864.69460000005</td></tr>\n",
       "<tr><td>57311.46645676245</td><td>112</td><td>30</td><td>7</td><td>7</td><td>362864.7245</td></tr>\n",
       "<tr><td>57311.46645691638</td><td>70</td><td>137</td><td>5</td><td>5</td><td>362864.7378</td></tr>\n",
       "<tr><td>57311.46645739902</td><td>97</td><td>168</td><td>4</td><td>4</td><td>362864.7795</td></tr>\n",
       "<tr><td>57311.46645766754</td><td>61</td><td>193</td><td>0</td><td>0</td><td>362864.8055</td></tr>\n",
       "</table>"
      ],
      "text/plain": [
       "<Table length=233>\n",
       "SSM_PL_EVTTIME_MJD SSM_PL_EVTLV SSM_PL_EVTRV ... SSM_PL_EVTRA   SSM_PL_EVTTIME  \n",
       "     float64          int16        int16     ...    uint8          float64      \n",
       "------------------ ------------ ------------ ... ------------ ------------------\n",
       " 57311.46633396846          211           59 ...            2        362854.1151\n",
       " 57311.46633396846           28           15 ...            2        362854.1227\n",
       "57311.466334904806           36          215 ...            7         362854.196\n",
       " 57311.46633539902           95           58 ...            4 362854.23870000005\n",
       " 57311.46633693143          182           63 ...            7 362854.37110000005\n",
       " 57311.46633693143          190           70 ...            3        362854.3725\n",
       "57311.466338291386          160          170 ...            0 362854.48860000004\n",
       "57311.466338706894           94           68 ...            7        362854.5245\n",
       "57311.466338706894           64          171 ...            2        362854.5309\n",
       "57311.466339375875           82           80 ...            4        362854.5823\n",
       "               ...          ...          ... ...          ...                ...\n",
       "  57311.4664547937           67           44 ...            1        362864.5544\n",
       " 57311.46645499508          110          164 ...            0 362864.57180000003\n",
       "  57311.4664553724          119           60 ...            4        362864.6044\n",
       " 57311.46645551592           82           52 ...            4        362864.6168\n",
       " 57311.46645601592          139          303 ...            3 362864.66000000003\n",
       " 57311.46645641638           85           28 ...            1 362864.69460000005\n",
       " 57311.46645676245          112           30 ...            7        362864.7245\n",
       " 57311.46645691638           70          137 ...            5        362864.7378\n",
       " 57311.46645739902           97          168 ...            4        362864.7795\n",
       " 57311.46645766754           61          193 ...            0        362864.8055"
      ]
     },
     "execution_count": 18,
     "metadata": {},
     "output_type": "execute_result"
    }
   ],
   "source": [
    "evt_data"
   ]
  },
  {
   "cell_type": "code",
   "execution_count": 28,
   "metadata": {},
   "outputs": [
    {
     "data": {
      "image/png": "[encoded data removed]",
      "text/plain": [
       "<Figure size 432x288 with 1 Axes>"
      ]
     },
     "metadata": {
      "needs_background": "light"
     },
     "output_type": "display_data"
    }
   ],
   "source": [
    "NBINS = 50\n",
    "graph_hist = plt.hist(evt_data['SSM_PL_EVTTIME_MJD'], NBINS)"
   ]
  },
  {
   "cell_type": "code",
   "execution_count": 29,
   "metadata": {},
   "outputs": [
    {
     "data": {
      "image/png": "[encoded data removed]",
      "text/plain": [
       "<Figure size 432x288 with 1 Axes>"
      ]
     },
     "metadata": {
      "needs_background": "light"
     },
     "output_type": "display_data"
    }
   ],
   "source": [
    "from astropy.table import Table\n",
    "from astropy.io import fits \n",
    "import matplotlib.pyplot as plt \n",
    "%matplotlib inline\n",
    "\n",
    "hdu_list = fits.open('/home/swathi/data/20151016_P01_126T01_9000000030_level2/SSM/SSM_00273/evtlstgtifil/AS1P01_126T01_9000000030_00273ssm_level2_clean_ssm1.fits')\n",
    "\n",
    "evt_data = Table(hdu_list[1].data)\n",
    "\n",
    "NBINS = 50\n",
    "graph_hist = plt.hist(evt_data['SSM_PL_EVTTIME_MJD'], NBINS)"
   ]
  },
  {
   "cell_type": "code",
   "execution_count": null,
   "metadata": {},
   "outputs": [],
   "source": []
  }
 ],
 "metadata": {
  "kernelspec": {
   "display_name": "Python 3",
   "language": "python",
   "name": "python3"
  },
  "language_info": {
   "codemirror_mode": {
    "name": "ipython",
    "version": 3
   },
   "file_extension": ".py",
   "mimetype": "text/x-python",
   "name": "python",
   "nbconvert_exporter": "python",
   "pygments_lexer": "ipython3",
   "version": "3.7.3"
  }
 },
 "nbformat": 4,
 "nbformat_minor": 2
}
